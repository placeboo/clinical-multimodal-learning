{
 "cells": [
  {
   "cell_type": "code",
   "execution_count": 1,
   "id": "3efebfe0-2548-4f5a-a8a6-11eaa0de5208",
   "metadata": {},
   "outputs": [],
   "source": [
    "import numpy as np"
   ]
  },
  {
   "cell_type": "code",
   "execution_count": 3,
   "id": "66969c59-e503-4234-b0d0-0ce90ffe7627",
   "metadata": {},
   "outputs": [],
   "source": [
    "def mean(a):\n",
    "    return sum(a) / len(a)"
   ]
  },
  {
   "cell_type": "code",
   "execution_count": 4,
   "id": "4bb3f882-8668-43d8-bbd8-20c6354190e7",
   "metadata": {},
   "outputs": [],
   "source": [
    "a = np.array([1,2,3])"
   ]
  },
  {
   "cell_type": "code",
   "execution_count": 5,
   "id": "8fe3898f-b918-4dbf-b17f-77d6f27ed106",
   "metadata": {},
   "outputs": [],
   "source": [
    "b = np.array([4,5,6])"
   ]
  },
  {
   "cell_type": "code",
   "execution_count": 6,
   "id": "c8c05202-d686-4b2f-8910-7249b50c4f59",
   "metadata": {},
   "outputs": [],
   "source": [
    "c = [a,b]"
   ]
  },
  {
   "cell_type": "code",
   "execution_count": 15,
   "id": "50a5b7aa-c9a8-436c-868c-c2af53630ce6",
   "metadata": {},
   "outputs": [],
   "source": [
    "t = np.asarray(list(map(mean, zip(*c))))"
   ]
  },
  {
   "cell_type": "code",
   "execution_count": 16,
   "id": "ee8ed083-22e3-4f10-b563-935e015b8d6d",
   "metadata": {},
   "outputs": [
    {
     "data": {
      "text/plain": [
       "array([2.5, 3.5, 4.5])"
      ]
     },
     "execution_count": 16,
     "metadata": {},
     "output_type": "execute_result"
    }
   ],
   "source": [
    "t"
   ]
  },
  {
   "cell_type": "code",
   "execution_count": null,
   "id": "3625ba27-dfff-46be-b516-d76ce23417dd",
   "metadata": {},
   "outputs": [],
   "source": []
  }
 ],
 "metadata": {
  "kernelspec": {
   "display_name": "Python 3 (ipykernel)",
   "language": "python",
   "name": "python3"
  },
  "language_info": {
   "codemirror_mode": {
    "name": "ipython",
    "version": 3
   },
   "file_extension": ".py",
   "mimetype": "text/x-python",
   "name": "python",
   "nbconvert_exporter": "python",
   "pygments_lexer": "ipython3",
   "version": "3.8.16"
  }
 },
 "nbformat": 4,
 "nbformat_minor": 5
}
